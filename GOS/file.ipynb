{
 "cells": [
  {
   "cell_type": "code",
   "execution_count": 1,
   "id": "initial_id",
   "metadata": {
    "collapsed": true,
    "ExecuteTime": {
     "end_time": "2024-03-19T07:25:24.225745500Z",
     "start_time": "2024-03-19T07:25:23.968758900Z"
    }
   },
   "outputs": [],
   "source": [
    "import pandas as pd\n",
    "\n"
   ]
  },
  {
   "cell_type": "code",
   "outputs": [],
   "source": [
    "import requests\n",
    "\n",
    "url = 'http://apis.data.go.kr/1390802/AgriFood/KoreanAlchol/V2/getKoreanAlcholIdntList'\n",
    "params ={'serviceKey' : 'rR814AJgnm0Xms8IvH+VMUi+Xh5JbcYB8CKX7TMQqxgXe0qV3PLBD7j+UmlWXtEeuq7Hx2WTf3IOfBxpBkzy0Q==', 'measure_Year' : '2015', 'achl_Kind_Code' : '435001', 'cmpr_Item_Code' : '436001' }\n",
    "\n",
    "response = requests.get(url, params=params)\n"
   ],
   "metadata": {
    "collapsed": false,
    "ExecuteTime": {
     "end_time": "2024-03-19T07:25:24.770061300Z",
     "start_time": "2024-03-19T07:25:24.401081300Z"
    }
   },
   "id": "7a859e8bc19e728b",
   "execution_count": 2
  },
  {
   "cell_type": "code",
   "outputs": [
    {
     "name": "stdout",
     "output_type": "stream",
     "text": [
      "\r\n",
      "\r\n",
      "\r\n",
      "\r\n",
      "\r\n",
      "\r\n",
      "<response>\r\n",
      "\t<header>\r\n",
      "\t\t<result_Code>200</result_Code>\r\n",
      "\t\t<result_Msg>OK</result_Msg>\r\n",
      "\t</header>\r\n",
      "\t<body>\r\n",
      " \t\t<items>\r\n",
      "\t\t\t<item>\r\n",
      "\t\t\t\t\r\n",
      "\t\t\t\t\r\n",
      "\r\n",
      "\t\t\t\t<measure_Year>2015</measure_Year>\r\n",
      "\r\n",
      "\t\t\t\t<achl_Kind_Code>435001</achl_Kind_Code>\r\n",
      "\t\t\t\t<achl_Kind_Nm>생막걸리</achl_Kind_Nm>\r\n",
      "\t\t\t\t<sample_Cnt>34</sample_Cnt>\r\n",
      "\t\t\t\t<sample_Rm>입상주 4, 비입상주 30</sample_Rm>\r\n",
      "\t\t\t\t<cmpr_Item_List>\r\n",
      "\t\t\t\t\t\r\n",
      "\t\t\t\t\t\t\r\n",
      "\t\t\t\t\t\t\t\r\n",
      "\t\t\t\t\t\t\t<item>\r\n",
      "\t\t\t\t\t\t\t\t<cmpr_Item_Code>436001</cmpr_Item_Code>\r\n",
      "\t\t\t\t\t\t\t\t<cmpr_Item_Nm>일반성분비교</cmpr_Item_Nm>\r\n",
      "\t\t\t\t\t\t\t\t<cmpr_Dtl_List>\r\n",
      "\t\t\t\t\t\t\r\n",
      "\t\t\t\t\t\t<item>\r\n",
      "\t\t\t\t\t\t\t<cmpr_Dtl_Code>436006</cmpr_Dtl_Code>\r\n",
      "\t\t\t\t\t\t\t<cmpr_Dtl_Nm>알코올</cmpr_Dtl_Nm>\r\n",
      "\t\t\t\t\t\t\t<cmpr_Dtl_Engl_Nm>Alcohol</cmpr_Dtl_Engl_Nm>\r\n",
      "\t\t\t\t\t\t\t<sfe></sfe>\r\n",
      "\t\t\t\t\t\t\t<prsiundo></prsiundo>\r\n",
      "\t\t\t\t\t\t\t<in_Value></in_Value>\r\n",
      "\t\t\t\t\t\t\t<mouthresdng>7.09</mouthresdng>\r\n",
      "\t\t\t\t\t\t\t<ctmouthresdng>7.47</ctmouthresdng>\r\n",
      "\t\t\t\t\t\t\t<f_Value>10.92</f_Value>\r\n",
      "\t\t\t\t\t\t\t<p_Value>0.641</p_Value>\r\n",
      "\t\t\t\t\t\t</item>\r\n",
      "\t\t\t\t\t\t\r\n",
      "\t\t\t\t\t\r\n",
      "\t\t\t\t\t\t\r\n",
      "\t\t\t\t\t\t<item>\r\n",
      "\t\t\t\t\t\t\t<cmpr_Dtl_Code>436007</cmpr_Dtl_Code>\r\n",
      "\t\t\t\t\t\t\t<cmpr_Dtl_Nm>pH</cmpr_Dtl_Nm>\r\n",
      "\t\t\t\t\t\t\t<cmpr_Dtl_Engl_Nm>pH</cmpr_Dtl_Engl_Nm>\r\n",
      "\t\t\t\t\t\t\t<sfe></sfe>\r\n",
      "\t\t\t\t\t\t\t<prsiundo></prsiundo>\r\n",
      "\t\t\t\t\t\t\t<in_Value></in_Value>\r\n",
      "\t\t\t\t\t\t\t<mouthresdng>3.97</mouthresdng>\r\n",
      "\t\t\t\t\t\t\t<ctmouthresdng>3.73</ctmouthresdng>\r\n",
      "\t\t\t\t\t\t\t<f_Value>4.68</f_Value>\r\n",
      "\t\t\t\t\t\t\t<p_Value>0.06</p_Value>\r\n",
      "\t\t\t\t\t\t</item>\r\n",
      "\t\t\t\t\t\t\r\n",
      "\t\t\t\t\t\r\n",
      "\t\t\t\t\t\t\r\n",
      "\t\t\t\t\t\t<item>\r\n",
      "\t\t\t\t\t\t\t<cmpr_Dtl_Code>436008</cmpr_Dtl_Code>\r\n",
      "\t\t\t\t\t\t\t<cmpr_Dtl_Nm>총산</cmpr_Dtl_Nm>\r\n",
      "\t\t\t\t\t\t\t<cmpr_Dtl_Engl_Nm>Total acidity</cmpr_Dtl_Engl_Nm>\r\n",
      "\t\t\t\t\t\t\t<sfe>산도 X 0.0064(citric acid) X 10</sfe>\r\n",
      "\t\t\t\t\t\t\t<prsiundo></prsiundo>\r\n",
      "\t\t\t\t\t\t\t<in_Value></in_Value>\r\n",
      "\t\t\t\t\t\t\t<mouthresdng>0.4</mouthresdng>\r\n",
      "\t\t\t\t\t\t\t<ctmouthresdng>0.43</ctmouthresdng>\r\n",
      "\t\t\t\t\t\t\t<f_Value>4.93</f_Value>\r\n",
      "\t\t\t\t\t\t\t<p_Value>0.157</p_Value>\r\n",
      "\t\t\t\t\t\t</item>\r\n",
      "\t\t\t\t\t\t\r\n",
      "\t\t\t\t\t\r\n",
      "\t\t\t\t\t\t\r\n",
      "\t\t\t\t\t\t<item>\r\n",
      "\t\t\t\t\t\t\t<cmpr_Dtl_Code>436009</cmpr_Dtl_Code>\r\n",
      "\t\t\t\t\t\t\t<cmpr_Dtl_Nm>환원당</cmpr_Dtl_Nm>\r\n",
      "\t\t\t\t\t\t\t<cmpr_Dtl_Engl_Nm>Reducing sugar</cmpr_Dtl_Engl_Nm>\r\n",
      "\t\t\t\t\t\t\t<sfe></sfe>\r\n",
      "\t\t\t\t\t\t\t<prsiundo></prsiundo>\r\n",
      "\t\t\t\t\t\t\t<in_Value></in_Value>\r\n",
      "\t\t\t\t\t\t\t<mouthresdng>0.31</mouthresdng>\r\n",
      "\t\t\t\t\t\t\t<ctmouthresdng>0.2</ctmouthresdng>\r\n",
      "\t\t\t\t\t\t\t<f_Value>1.9</f_Value>\r\n",
      "\t\t\t\t\t\t\t<p_Value>0.453</p_Value>\r\n",
      "\t\t\t\t\t\t</item>\r\n",
      "\t\t\t\t\t\t\r\n",
      "\t\t\t\t\t\r\n",
      "\t\t\t\t\t\t\r\n",
      "\t\t\t\t\t\t<item>\r\n",
      "\t\t\t\t\t\t\t<cmpr_Dtl_Code>436010</cmpr_Dtl_Code>\r\n",
      "\t\t\t\t\t\t\t<cmpr_Dtl_Nm>당산비</cmpr_Dtl_Nm>\r\n",
      "\t\t\t\t\t\t\t<cmpr_Dtl_Engl_Nm>Sugar-acid ratio</cmpr_Dtl_Engl_Nm>\r\n",
      "\t\t\t\t\t\t\t<sfe></sfe>\r\n",
      "\t\t\t\t\t\t\t<prsiundo></prsiundo>\r\n",
      "\t\t\t\t\t\t\t<in_Value></in_Value>\r\n",
      "\t\t\t\t\t\t\t<mouthresdng>1.3</mouthresdng>\r\n",
      "\t\t\t\t\t\t\t<ctmouthresdng>0.34</ctmouthresdng>\r\n",
      "\t\t\t\t\t\t\t<f_Value>22.31</f_Value>\r\n",
      "\t\t\t\t\t\t\t<p_Value>0.042</p_Value>\r\n",
      "\t\t\t\t\t\t</item>\r\n",
      "\t\t\t\t\t\t\r\n",
      "\t\t\t\t\t\r\n",
      "\t\t\t\t\t\t\r\n",
      "\t\t\t\t\t\t<item>\r\n",
      "\t\t\t\t\t\t\t<cmpr_Dtl_Code>436011</cmpr_Dtl_Code>\r\n",
      "\t\t\t\t\t\t\t<cmpr_Dtl_Nm>아미노산</cmpr_Dtl_Nm>\r\n",
      "\t\t\t\t\t\t\t<cmpr_Dtl_Engl_Nm>Glycine</cmpr_Dtl_Engl_Nm>\r\n",
      "\t\t\t\t\t\t\t<sfe>아미노산도 X0.0075(glycine) X 10</sfe>\r\n",
      "\t\t\t\t\t\t\t<prsiundo></prsiundo>\r\n",
      "\t\t\t\t\t\t\t<in_Value></in_Value>\r\n",
      "\t\t\t\t\t\t\t<mouthresdng>0.24</mouthresdng>\r\n",
      "\t\t\t\t\t\t\t<ctmouthresdng>0.15</ctmouthresdng>\r\n",
      "\t\t\t\t\t\t\t<f_Value>10.47</f_Value>\r\n",
      "\t\t\t\t\t\t\t<p_Value>0.148</p_Value>\r\n",
      "\t\t\t\t\t\t</item>\r\n",
      "\t\t\t\t\t\t\r\n",
      "\t\t\t\t\t\r\n",
      "\t\t\t\t\t\t\r\n",
      "\t\t\t\t\t\t<item>\r\n",
      "\t\t\t\t\t\t\t<cmpr_Dtl_Code>436012</cmpr_Dtl_Code>\r\n",
      "\t\t\t\t\t\t\t<cmpr_Dtl_Nm>가용성 고형분</cmpr_Dtl_Nm>\r\n",
      "\t\t\t\t\t\t\t<cmpr_Dtl_Engl_Nm>Soluble solids</cmpr_Dtl_Engl_Nm>\r\n",
      "\t\t\t\t\t\t\t<sfe></sfe>\r\n",
      "\t\t\t\t\t\t\t<prsiundo></prsiundo>\r\n",
      "\t\t\t\t\t\t\t<in_Value></in_Value>\r\n",
      "\t\t\t\t\t\t\t<mouthresdng>8.26</mouthresdng>\r\n",
      "\t\t\t\t\t\t\t<ctmouthresdng>6.92</ctmouthresdng>\r\n",
      "\t\t\t\t\t\t\t<f_Value>1.02</f_Value>\r\n",
      "\t\t\t\t\t\t\t<p_Value>0.462</p_Value>\r\n",
      "\t\t\t\t\t\t</item>\r\n",
      "\t\t\t\t\t\t\r\n",
      "\t\t\t\t\t\r\n",
      "\t\t\t\t\t\t\r\n",
      "\t\t\t\t\t\t<item>\r\n",
      "\t\t\t\t\t\t\t<cmpr_Dtl_Code>436013</cmpr_Dtl_Code>\r\n",
      "\t\t\t\t\t\t\t<cmpr_Dtl_Nm>휘발산</cmpr_Dtl_Nm>\r\n",
      "\t\t\t\t\t\t\t<cmpr_Dtl_Engl_Nm>Volatile acidity</cmpr_Dtl_Engl_Nm>\r\n",
      "\t\t\t\t\t\t\t<sfe></sfe>\r\n",
      "\t\t\t\t\t\t\t<prsiundo></prsiundo>\r\n",
      "\t\t\t\t\t\t\t<in_Value></in_Value>\r\n",
      "\t\t\t\t\t\t\t<mouthresdng>99.8</mouthresdng>\r\n",
      "\t\t\t\t\t\t\t<ctmouthresdng>92.48</ctmouthresdng>\r\n",
      "\t\t\t\t\t\t\t<f_Value>0.66</f_Value>\r\n",
      "\t\t\t\t\t\t\t<p_Value>0.737</p_Value>\r\n",
      "\t\t\t\t\t\t</item>\r\n",
      "\t\t\t\t\t\t\r\n",
      "\t\t\t\t\t\r\n",
      "\t\t\t\t\t\t\r\n",
      "\t\t\t\t\t\t<item>\r\n",
      "\t\t\t\t\t\t\t<cmpr_Dtl_Code>436014</cmpr_Dtl_Code>\r\n",
      "\t\t\t\t\t\t\t<cmpr_Dtl_Nm>색도</cmpr_Dtl_Nm>\r\n",
      "\t\t\t\t\t\t\t<cmpr_Dtl_Engl_Nm>Color difference</cmpr_Dtl_Engl_Nm>\r\n",
      "\t\t\t\t\t\t\t<sfe></sfe>\r\n",
      "\t\t\t\t\t\t\t<prsiundo></prsiundo>\r\n",
      "\t\t\t\t\t\t\t<in_Value></in_Value>\r\n",
      "\t\t\t\t\t\t\t<mouthresdng>32.45</mouthresdng>\r\n",
      "\t\t\t\t\t\t\t<ctmouthresdng>32.31</ctmouthresdng>\r\n",
      "\t\t\t\t\t\t\t<f_Value>3.19</f_Value>\r\n",
      "\t\t\t\t\t\t\t<p_Value>0.344</p_Value>\r\n",
      "\t\t\t\t\t\t</item>\r\n",
      "\t\t\t\t\t\t\r\n",
      "\t\t\t\t\t\t\t\t</cmpr_Dtl_List>\r\n",
      "\t\t\t\t\t\t\t</item>\r\n",
      "\t\t\t\t\t\t\r\n",
      "\t\t\t\t\t\r\n",
      "\t\t\t\t</cmpr_Item_List>\r\n",
      "\t\t\t</item>\r\n",
      "\t\t</items>\r\n",
      "\t</body>\r\n",
      "</response>\r\n",
      "\r\n",
      "\r\n"
     ]
    }
   ],
   "source": [
    "print(response.text)"
   ],
   "metadata": {
    "collapsed": false,
    "ExecuteTime": {
     "end_time": "2024-03-19T07:27:09.369821600Z",
     "start_time": "2024-03-19T07:27:09.354937800Z"
    }
   },
   "id": "b94171baf14eb20a",
   "execution_count": 10
  },
  {
   "cell_type": "code",
   "outputs": [],
   "source": [
    "with open('test.xml', 'w', encoding='utf8') as f:\n",
    "    f.write(response.text)\n"
   ],
   "metadata": {
    "collapsed": false,
    "ExecuteTime": {
     "end_time": "2024-03-19T07:28:51.020964900Z",
     "start_time": "2024-03-19T07:28:51.007021600Z"
    }
   },
   "id": "5ab67d20acfb85c5",
   "execution_count": 11
  },
  {
   "cell_type": "code",
   "outputs": [
    {
     "data": {
      "text/plain": "   measure_Year  achl_Kind_Code achl_Kind_Nm  sample_Cnt       sample_Rm  \\\n0          2015          435001         생막걸리          34  입상주 4, 비입상주 30   \n\n   cmpr_Item_List  \n0             NaN  ",
      "text/html": "<div>\n<style scoped>\n    .dataframe tbody tr th:only-of-type {\n        vertical-align: middle;\n    }\n\n    .dataframe tbody tr th {\n        vertical-align: top;\n    }\n\n    .dataframe thead th {\n        text-align: right;\n    }\n</style>\n<table border=\"1\" class=\"dataframe\">\n  <thead>\n    <tr style=\"text-align: right;\">\n      <th></th>\n      <th>measure_Year</th>\n      <th>achl_Kind_Code</th>\n      <th>achl_Kind_Nm</th>\n      <th>sample_Cnt</th>\n      <th>sample_Rm</th>\n      <th>cmpr_Item_List</th>\n    </tr>\n  </thead>\n  <tbody>\n    <tr>\n      <th>0</th>\n      <td>2015</td>\n      <td>435001</td>\n      <td>생막걸리</td>\n      <td>34</td>\n      <td>입상주 4, 비입상주 30</td>\n      <td>NaN</td>\n    </tr>\n  </tbody>\n</table>\n</div>"
     },
     "execution_count": 14,
     "metadata": {},
     "output_type": "execute_result"
    }
   ],
   "source": [
    "pd.read_xml(response.text, xpath= '//response/body/items/item')"
   ],
   "metadata": {
    "collapsed": false,
    "ExecuteTime": {
     "end_time": "2024-03-19T07:31:12.073762500Z",
     "start_time": "2024-03-19T07:31:12.051848400Z"
    }
   },
   "id": "2ce541cb136a620e",
   "execution_count": 14
  },
  {
   "cell_type": "code",
   "outputs": [
    {
     "data": {
      "text/plain": "   cmpr_Dtl_Code cmpr_Dtl_Nm  cmpr_Dtl_Engl_Nm                            sfe  \\\n0         436006         알코올           Alcohol                           None   \n1         436007          pH                pH                           None   \n2         436008          총산     Total acidity  산도 X 0.0064(citric acid) X 10   \n3         436009         환원당    Reducing sugar                           None   \n4         436010         당산비  Sugar-acid ratio                           None   \n5         436011        아미노산           Glycine    아미노산도 X0.0075(glycine) X 10   \n6         436012     가용성 고형분    Soluble solids                           None   \n7         436013         휘발산  Volatile acidity                           None   \n8         436014          색도  Color difference                           None   \n\n   prsiundo  in_Value  mouthresdng  ctmouthresdng  f_Value  p_Value  \n0       NaN       NaN         7.09           7.47    10.92    0.641  \n1       NaN       NaN         3.97           3.73     4.68    0.060  \n2       NaN       NaN         0.40           0.43     4.93    0.157  \n3       NaN       NaN         0.31           0.20     1.90    0.453  \n4       NaN       NaN         1.30           0.34    22.31    0.042  \n5       NaN       NaN         0.24           0.15    10.47    0.148  \n6       NaN       NaN         8.26           6.92     1.02    0.462  \n7       NaN       NaN        99.80          92.48     0.66    0.737  \n8       NaN       NaN        32.45          32.31     3.19    0.344  ",
      "text/html": "<div>\n<style scoped>\n    .dataframe tbody tr th:only-of-type {\n        vertical-align: middle;\n    }\n\n    .dataframe tbody tr th {\n        vertical-align: top;\n    }\n\n    .dataframe thead th {\n        text-align: right;\n    }\n</style>\n<table border=\"1\" class=\"dataframe\">\n  <thead>\n    <tr style=\"text-align: right;\">\n      <th></th>\n      <th>cmpr_Dtl_Code</th>\n      <th>cmpr_Dtl_Nm</th>\n      <th>cmpr_Dtl_Engl_Nm</th>\n      <th>sfe</th>\n      <th>prsiundo</th>\n      <th>in_Value</th>\n      <th>mouthresdng</th>\n      <th>ctmouthresdng</th>\n      <th>f_Value</th>\n      <th>p_Value</th>\n    </tr>\n  </thead>\n  <tbody>\n    <tr>\n      <th>0</th>\n      <td>436006</td>\n      <td>알코올</td>\n      <td>Alcohol</td>\n      <td>None</td>\n      <td>NaN</td>\n      <td>NaN</td>\n      <td>7.09</td>\n      <td>7.47</td>\n      <td>10.92</td>\n      <td>0.641</td>\n    </tr>\n    <tr>\n      <th>1</th>\n      <td>436007</td>\n      <td>pH</td>\n      <td>pH</td>\n      <td>None</td>\n      <td>NaN</td>\n      <td>NaN</td>\n      <td>3.97</td>\n      <td>3.73</td>\n      <td>4.68</td>\n      <td>0.060</td>\n    </tr>\n    <tr>\n      <th>2</th>\n      <td>436008</td>\n      <td>총산</td>\n      <td>Total acidity</td>\n      <td>산도 X 0.0064(citric acid) X 10</td>\n      <td>NaN</td>\n      <td>NaN</td>\n      <td>0.40</td>\n      <td>0.43</td>\n      <td>4.93</td>\n      <td>0.157</td>\n    </tr>\n    <tr>\n      <th>3</th>\n      <td>436009</td>\n      <td>환원당</td>\n      <td>Reducing sugar</td>\n      <td>None</td>\n      <td>NaN</td>\n      <td>NaN</td>\n      <td>0.31</td>\n      <td>0.20</td>\n      <td>1.90</td>\n      <td>0.453</td>\n    </tr>\n    <tr>\n      <th>4</th>\n      <td>436010</td>\n      <td>당산비</td>\n      <td>Sugar-acid ratio</td>\n      <td>None</td>\n      <td>NaN</td>\n      <td>NaN</td>\n      <td>1.30</td>\n      <td>0.34</td>\n      <td>22.31</td>\n      <td>0.042</td>\n    </tr>\n    <tr>\n      <th>5</th>\n      <td>436011</td>\n      <td>아미노산</td>\n      <td>Glycine</td>\n      <td>아미노산도 X0.0075(glycine) X 10</td>\n      <td>NaN</td>\n      <td>NaN</td>\n      <td>0.24</td>\n      <td>0.15</td>\n      <td>10.47</td>\n      <td>0.148</td>\n    </tr>\n    <tr>\n      <th>6</th>\n      <td>436012</td>\n      <td>가용성 고형분</td>\n      <td>Soluble solids</td>\n      <td>None</td>\n      <td>NaN</td>\n      <td>NaN</td>\n      <td>8.26</td>\n      <td>6.92</td>\n      <td>1.02</td>\n      <td>0.462</td>\n    </tr>\n    <tr>\n      <th>7</th>\n      <td>436013</td>\n      <td>휘발산</td>\n      <td>Volatile acidity</td>\n      <td>None</td>\n      <td>NaN</td>\n      <td>NaN</td>\n      <td>99.80</td>\n      <td>92.48</td>\n      <td>0.66</td>\n      <td>0.737</td>\n    </tr>\n    <tr>\n      <th>8</th>\n      <td>436014</td>\n      <td>색도</td>\n      <td>Color difference</td>\n      <td>None</td>\n      <td>NaN</td>\n      <td>NaN</td>\n      <td>32.45</td>\n      <td>32.31</td>\n      <td>3.19</td>\n      <td>0.344</td>\n    </tr>\n  </tbody>\n</table>\n</div>"
     },
     "execution_count": 16,
     "metadata": {},
     "output_type": "execute_result"
    }
   ],
   "source": [
    "pd.read_xml(response.text, xpath='//response/body/items/item/cmpr_Item_List/item/cmpr_Dtl_List/item')"
   ],
   "metadata": {
    "collapsed": false,
    "ExecuteTime": {
     "end_time": "2024-03-19T07:34:31.379511500Z",
     "start_time": "2024-03-19T07:34:31.349228100Z"
    }
   },
   "id": "b6a4332753467eab",
   "execution_count": 16
  },
  {
   "cell_type": "code",
   "outputs": [
    {
     "data": {
      "text/plain": "<Response [500]>"
     },
     "execution_count": 6,
     "metadata": {},
     "output_type": "execute_result"
    }
   ],
   "source": [],
   "metadata": {
    "collapsed": false,
    "ExecuteTime": {
     "end_time": "2024-03-19T07:13:30.793540500Z",
     "start_time": "2024-03-19T07:13:30.766340900Z"
    }
   },
   "id": "1c65abfdd3acd7c4",
   "execution_count": 6
  },
  {
   "cell_type": "code",
   "outputs": [],
   "source": [],
   "metadata": {
    "collapsed": false
   },
   "id": "9979a832ff2162d3"
  }
 ],
 "metadata": {
  "kernelspec": {
   "display_name": "Python 3",
   "language": "python",
   "name": "python3"
  },
  "language_info": {
   "codemirror_mode": {
    "name": "ipython",
    "version": 2
   },
   "file_extension": ".py",
   "mimetype": "text/x-python",
   "name": "python",
   "nbconvert_exporter": "python",
   "pygments_lexer": "ipython2",
   "version": "2.7.6"
  }
 },
 "nbformat": 4,
 "nbformat_minor": 5
}
